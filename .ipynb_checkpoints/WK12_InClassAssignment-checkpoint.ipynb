{
 "cells": [
  {
   "cell_type": "markdown",
   "id": "e84a6d6f",
   "metadata": {},
   "source": [
    "### Week 12 In Class Assignment\n",
    "##### Angela Spencer - December 8, 2021"
   ]
  },
  {
   "cell_type": "markdown",
   "id": "02bacc6f",
   "metadata": {},
   "source": [
    "#### 1. Write a lambda function to rearrange positive and negative numbers in a given list\n",
    "\n",
    "Sample output:\n",
    "\n",
    "original_list = [-1,2,-3,4,-5,6,-7,8,-9,10,-11,12]\n",
    "\n",
    "resulting_list = [2,4,6,8,10,12,-11,-9,-7,-5,-3,-1]"
   ]
  },
  {
   "cell_type": "code",
   "execution_count": 12,
   "id": "4edc080a",
   "metadata": {},
   "outputs": [],
   "source": [
    "original_list = [-1,2,-3,4,-5,6,-7,8,-9,10,-11,12]"
   ]
  },
  {
   "cell_type": "code",
   "execution_count": 13,
   "id": "287650ce",
   "metadata": {},
   "outputs": [
    {
     "data": {
      "text/plain": [
       "[2, 4, 6, 8, 10, 12, -11, -9, -7, -5, -3, -1]"
      ]
     },
     "execution_count": 13,
     "metadata": {},
     "output_type": "execute_result"
    }
   ],
   "source": [
    "#resulting_list = list(filter(lambda x: x>0, original_list)) + list(filter(lambda x: x<0, original_list))\n",
    "\n",
    "resulting_list= sorted(original_list, key = lambda i: 0 if i == 0 else -1 / i)\n",
    "\n",
    "resulting_list\n"
   ]
  },
  {
   "cell_type": "markdown",
   "id": "7eab259e",
   "metadata": {},
   "source": [
    "#### 2. Create a new dataframe using week_11/temperatures/temperature.csv file from last class. It should have the datetime column and one of the cities. Create a new boolean column called is_freezing that indicates if the temperature is at or below freezing. Use a lambda to create this column. Is there a better way to do this than with a lambda?\n",
    "\n",
    "The lambda function took 0.016 sec and the for loop took 0.032 sec and so the lambda approach is preferred because the code is cleaner and the execution time is faster."
   ]
  },
  {
   "cell_type": "code",
   "execution_count": 18,
   "id": "43ef0ea8",
   "metadata": {},
   "outputs": [],
   "source": [
    "import pandas as pd\n",
    "import numpy as np\n",
    "import time"
   ]
  },
  {
   "cell_type": "code",
   "execution_count": 15,
   "id": "6db3ee6f",
   "metadata": {
    "scrolled": true
   },
   "outputs": [
    {
     "data": {
      "text/html": [
       "<div>\n",
       "<style scoped>\n",
       "    .dataframe tbody tr th:only-of-type {\n",
       "        vertical-align: middle;\n",
       "    }\n",
       "\n",
       "    .dataframe tbody tr th {\n",
       "        vertical-align: top;\n",
       "    }\n",
       "\n",
       "    .dataframe thead th {\n",
       "        text-align: right;\n",
       "    }\n",
       "</style>\n",
       "<table border=\"1\" class=\"dataframe\">\n",
       "  <thead>\n",
       "    <tr style=\"text-align: right;\">\n",
       "      <th></th>\n",
       "      <th>datetime</th>\n",
       "      <th>Vancouver</th>\n",
       "    </tr>\n",
       "  </thead>\n",
       "  <tbody>\n",
       "    <tr>\n",
       "      <th>0</th>\n",
       "      <td>10/1/2012 12:00</td>\n",
       "      <td>NaN</td>\n",
       "    </tr>\n",
       "    <tr>\n",
       "      <th>1</th>\n",
       "      <td>10/1/2012 13:00</td>\n",
       "      <td>284.630000</td>\n",
       "    </tr>\n",
       "    <tr>\n",
       "      <th>2</th>\n",
       "      <td>10/1/2012 14:00</td>\n",
       "      <td>284.629041</td>\n",
       "    </tr>\n",
       "    <tr>\n",
       "      <th>3</th>\n",
       "      <td>10/1/2012 15:00</td>\n",
       "      <td>284.626998</td>\n",
       "    </tr>\n",
       "    <tr>\n",
       "      <th>4</th>\n",
       "      <td>10/1/2012 16:00</td>\n",
       "      <td>284.624955</td>\n",
       "    </tr>\n",
       "    <tr>\n",
       "      <th>...</th>\n",
       "      <td>...</td>\n",
       "      <td>...</td>\n",
       "    </tr>\n",
       "    <tr>\n",
       "      <th>45248</th>\n",
       "      <td>11/29/2017 20:00</td>\n",
       "      <td>NaN</td>\n",
       "    </tr>\n",
       "    <tr>\n",
       "      <th>45249</th>\n",
       "      <td>11/29/2017 21:00</td>\n",
       "      <td>NaN</td>\n",
       "    </tr>\n",
       "    <tr>\n",
       "      <th>45250</th>\n",
       "      <td>11/29/2017 22:00</td>\n",
       "      <td>NaN</td>\n",
       "    </tr>\n",
       "    <tr>\n",
       "      <th>45251</th>\n",
       "      <td>11/29/2017 23:00</td>\n",
       "      <td>NaN</td>\n",
       "    </tr>\n",
       "    <tr>\n",
       "      <th>45252</th>\n",
       "      <td>11/30/2017 0:00</td>\n",
       "      <td>NaN</td>\n",
       "    </tr>\n",
       "  </tbody>\n",
       "</table>\n",
       "<p>45253 rows × 2 columns</p>\n",
       "</div>"
      ],
      "text/plain": [
       "               datetime   Vancouver\n",
       "0       10/1/2012 12:00         NaN\n",
       "1       10/1/2012 13:00  284.630000\n",
       "2       10/1/2012 14:00  284.629041\n",
       "3       10/1/2012 15:00  284.626998\n",
       "4       10/1/2012 16:00  284.624955\n",
       "...                 ...         ...\n",
       "45248  11/29/2017 20:00         NaN\n",
       "45249  11/29/2017 21:00         NaN\n",
       "45250  11/29/2017 22:00         NaN\n",
       "45251  11/29/2017 23:00         NaN\n",
       "45252   11/30/2017 0:00         NaN\n",
       "\n",
       "[45253 rows x 2 columns]"
      ]
     },
     "execution_count": 15,
     "metadata": {},
     "output_type": "execute_result"
    }
   ],
   "source": [
    "temp_df = pd.read_csv('../Week_11/temperature.csv')\n",
    "new_df = temp_df[['datetime', 'Vancouver']]\n",
    "new_df"
   ]
  },
  {
   "cell_type": "code",
   "execution_count": 16,
   "id": "9c98946c",
   "metadata": {},
   "outputs": [
    {
     "name": "stdout",
     "output_type": "stream",
     "text": [
      "               datetime   Vancouver  is_freezing\n",
      "0       10/1/2012 12:00         NaN        False\n",
      "1       10/1/2012 13:00  284.630000        False\n",
      "2       10/1/2012 14:00  284.629041        False\n",
      "3       10/1/2012 15:00  284.626998        False\n",
      "4       10/1/2012 16:00  284.624955        False\n",
      "...                 ...         ...          ...\n",
      "45248  11/29/2017 20:00         NaN        False\n",
      "45249  11/29/2017 21:00         NaN        False\n",
      "45250  11/29/2017 22:00         NaN        False\n",
      "45251  11/29/2017 23:00         NaN        False\n",
      "45252   11/30/2017 0:00         NaN        False\n",
      "\n",
      "[45253 rows x 3 columns]\n",
      "0.015997648239135742\n"
     ]
    }
   ],
   "source": [
    "start = time.time()\n",
    "\n",
    "#Create a new boolean column called is_freezing that indicates if the temperature is at or below freezing.\n",
    "freezing_lambda = new_df.assign(is_freezing=lambda x: new_df['Vancouver'] <= 273)\n",
    "print(freezing_lambda)\n",
    "\n",
    "\n",
    "end = time.time()\n",
    "\n",
    "\n",
    "print(format(end-start))"
   ]
  },
  {
   "cell_type": "code",
   "execution_count": 17,
   "id": "d826d0a3",
   "metadata": {},
   "outputs": [
    {
     "name": "stdout",
     "output_type": "stream",
     "text": [
      "               datetime   Vancouver  is_freezing\n",
      "0       10/1/2012 12:00         NaN        False\n",
      "1       10/1/2012 13:00  284.630000        False\n",
      "2       10/1/2012 14:00  284.629041        False\n",
      "3       10/1/2012 15:00  284.626998        False\n",
      "4       10/1/2012 16:00  284.624955        False\n",
      "...                 ...         ...          ...\n",
      "45248  11/29/2017 20:00         NaN        False\n",
      "45249  11/29/2017 21:00         NaN        False\n",
      "45250  11/29/2017 22:00         NaN        False\n",
      "45251  11/29/2017 23:00         NaN        False\n",
      "45252   11/30/2017 0:00         NaN        False\n",
      "\n",
      "[45253 rows x 3 columns]\n",
      "0.031992197036743164\n"
     ]
    },
    {
     "name": "stderr",
     "output_type": "stream",
     "text": [
      "C:\\Users\\aspen\\AppData\\Local\\Temp/ipykernel_11808/2415964160.py:12: SettingWithCopyWarning: \n",
      "A value is trying to be set on a copy of a slice from a DataFrame.\n",
      "Try using .loc[row_indexer,col_indexer] = value instead\n",
      "\n",
      "See the caveats in the documentation: https://pandas.pydata.org/pandas-docs/stable/user_guide/indexing.html#returning-a-view-versus-a-copy\n",
      "  new_df[\"is_freezing\"] = freezing_list\n"
     ]
    }
   ],
   "source": [
    "start2 = time.time()\n",
    "\n",
    "#another way to do create an is_freezing column\n",
    "freezing_list = []\n",
    "\n",
    "for temp in new_df['Vancouver']:\n",
    "    if temp <= 273:\n",
    "        freezing_list.append(True)\n",
    "    else:\n",
    "        freezing_list.append(False)\n",
    "       \n",
    "new_df[\"is_freezing\"] = freezing_list   \n",
    "print(new_df)\n",
    "\n",
    "end2 = time.time()\n",
    "\n",
    "\n",
    "print(format(end2-start2))"
   ]
  },
  {
   "cell_type": "markdown",
   "id": "0b64da3c",
   "metadata": {},
   "source": [
    "#### 3. BONUS: if you still have time, try to do a pivot of the data in question 2 so you have the hourly data for all the cities and a flag for if it's freezing."
   ]
  },
  {
   "cell_type": "code",
   "execution_count": null,
   "id": "dc38dc81",
   "metadata": {},
   "outputs": [],
   "source": []
  }
 ],
 "metadata": {
  "kernelspec": {
   "display_name": "Python 3 (ipykernel)",
   "language": "python",
   "name": "python3"
  },
  "language_info": {
   "codemirror_mode": {
    "name": "ipython",
    "version": 3
   },
   "file_extension": ".py",
   "mimetype": "text/x-python",
   "name": "python",
   "nbconvert_exporter": "python",
   "pygments_lexer": "ipython3",
   "version": "3.9.7"
  }
 },
 "nbformat": 4,
 "nbformat_minor": 5
}
