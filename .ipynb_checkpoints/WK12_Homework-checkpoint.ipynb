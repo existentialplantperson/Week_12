{
 "cells": [
  {
   "cell_type": "markdown",
   "id": "357cce83",
   "metadata": {},
   "source": [
    "### Week 12 Homework\n",
    "##### Angela Spencer - December 15, 2021"
   ]
  },
  {
   "cell_type": "markdown",
   "id": "e65ab84c",
   "metadata": {},
   "source": [
    "#### 1.\tIn 250-500 words, write a thorough discussion of when to use ML and when not to. Do NOT go over the 500-word limit. It is essential to express this concisely. This should be informed by the Machine Learning for Business DataCamp course. "
   ]
  },
  {
   "cell_type": "markdown",
   "id": "ba33cab6",
   "metadata": {},
   "source": [
    "#### 2.\tPerform pre-processing on the Lending Club dataset from class. Clearly use markdown to indicate each pre-processing step you are using. Note: you should use at least three different techniques. "
   ]
  },
  {
   "cell_type": "markdown",
   "id": "16683c48",
   "metadata": {},
   "source": [
    "#### 3.\tCreate a correlation matrix with a heatmap for the features in the Lending Club dataset. Use markdown to write about your takeaways in under 250 words."
   ]
  },
  {
   "cell_type": "markdown",
   "id": "aae26177",
   "metadata": {},
   "source": [
    "#### 4.\tCreate a histogram showing the frequency of loan_amounts. Describe what you see. Pay special attention to bin sizes, and clearly describe how you chose your bin sizes. "
   ]
  },
  {
   "cell_type": "markdown",
   "id": "fe8ef948",
   "metadata": {},
   "source": [
    "#### 5.\tCreate a new column called region that uses a lambda and shows which part of the US someone lives in, split up into Pacific, Plains, Midwest, Northeast, and South. Consider having your lambda call a function. "
   ]
  },
  {
   "cell_type": "markdown",
   "id": "fb63f649",
   "metadata": {},
   "source": [
    "#### a.\tIs there a better way to do this than with a lambda? "
   ]
  },
  {
   "cell_type": "markdown",
   "id": "43931173",
   "metadata": {},
   "source": [
    "#### b.\tEither use two different lambdas or a lambda and a different technique and see which one is more performant. Explain your findings in the markdown. "
   ]
  },
  {
   "cell_type": "markdown",
   "id": "647e3ab3",
   "metadata": {},
   "source": [
    "#### 6.\tCreate subplot histograms to show if loan_amounts differ by region. Summarize your findings."
   ]
  },
  {
   "cell_type": "markdown",
   "id": "cdac4618",
   "metadata": {},
   "source": [
    "#### 7.\tThink of some questions you want to ask our guests next week. You can ask them anything, just make sure its thoughtful. "
   ]
  }
 ],
 "metadata": {
  "kernelspec": {
   "display_name": "Python 3 (ipykernel)",
   "language": "python",
   "name": "python3"
  },
  "language_info": {
   "codemirror_mode": {
    "name": "ipython",
    "version": 3
   },
   "file_extension": ".py",
   "mimetype": "text/x-python",
   "name": "python",
   "nbconvert_exporter": "python",
   "pygments_lexer": "ipython3",
   "version": "3.9.7"
  }
 },
 "nbformat": 4,
 "nbformat_minor": 5
}
